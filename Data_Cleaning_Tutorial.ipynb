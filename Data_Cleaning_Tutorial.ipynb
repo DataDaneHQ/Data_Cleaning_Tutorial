{
 "cells": [
  {
   "cell_type": "markdown",
   "id": "7ecac95a-d8be-4028-bf6e-b16368b1067c",
   "metadata": {},
   "source": [
    "# **Data Cleaning Tutorial: Titanic Dataset**"
   ]
  },
  {
   "cell_type": "markdown",
   "id": "ff100544-696f-4d1f-80de-98f21ccc58ae",
   "metadata": {},
   "source": [
    "<img src=\"LinkedIn Images/Titanic.png\" alt=\"Logo\" style=\"float:left; width:500px; height:250px;\">"
   ]
  },
  {
   "cell_type": "markdown",
   "id": "0abc722e-d1e7-4d75-8c8b-5a9ba9c44b11",
   "metadata": {},
   "source": [
    "## **Introduction**\n",
    "\n",
    "The Titanic dataset is a go-to classic for data enthusiasts. It’s packed with passenger details like age, gender, ticket class, and whether they survived the tragic sinking. You can easily get your hands on it through Python libraries or platforms like Kaggle.\n",
    "\n",
    "Before we dive into any analysis or modeling, cleaning the dataset is crucial. Think of it as tidying up a messy room before you can focus. In this tutorial, we’ll tackle the core steps of data cleaning - dealing with duplicates, handling missing values, detecting and managing outliers, and converting data types. \n",
    "\n",
    "By the end, our data will be prepped and polished using my go-to process. In the first two cleaning steps, we’ll fully apply these methods and remove data for practice. For the last two steps, I’ll guide you through the process, but we’ll apply the changes only to a few items - leaving the rest for you to experiment with on your own. Remember, your approach may vary depending on your project goals, so deciding when and why to remove or modify data is key. Data cleaning is not a one-size-fits-all process, and being thoughtful about how and when to clean data is crucial for ensuring that your analysis remains valid and reliable.\n",
    "\n",
    "\n",
    "### **Titanic Dataset Dictionary:**\n",
    "\n",
    "* `survived` | Description: Survival status (0 = No, 1 = Yes) | Type: Integer (binary)\n",
    "* `pclass` | Description: Passenger class (1st = 1, 2nd = 2, 3rd = 3) | Type: Integer (ordinal)\n",
    "* `sex` | Description: Gender of the passenger (male, female) | Type: String (categorical)\n",
    "* `age` | Description: Age of the passenger (in years) | Type: Float (continuous) | Note: Missing  values present\n",
    "* `sibsp` | Description: Number of siblings or spouses aboard | Type: Integer (discrete)\n",
    "* `parch` | Description: Number of parents or children aboard | Type: Integer (discrete)\n",
    "* `fare` | Description: Fare paid by the passenger | Type: Float (continuous)\n",
    "* `embarked` | Description: Port of embarkation (C = Cherbourg, Q = Queenstown, S = Southampton) | Type: String (categorical)\n",
    "* `class` | Description: Passenger class ('First', 'Second', 'Third') | Type: String (categorical)\n",
    "* `who` | Description: Gender categorization (man, woman, child) | Type: String (categorical)\n",
    "* `adult_male` | Description: Whether the passenger is an adult male (True, False) | Type: Boolean (binary)\n",
    "* `deck` | Description: Deck level of the cabin (A to G, T = unknown) | Type: String (categorical) | Note: Many missing values\n",
    "* `embark_town` | Description: Full name of embarkation town (Cherbourg, Queenstown, Southampton) | Type: String (categorical)\n",
    "* `alive` | Description: Survival status (yes or no) | Type: String (categorical)\n",
    "* `alone` | Description: Whether the passenger traveled alone (True, False) | Type: Boolean (binary)\n",
    "\n",
    "### **Libraries Used**"
   ]
  },
  {
   "cell_type": "code",
   "execution_count": 1,
   "id": "cec4ccbb-a85a-4e0e-ae54-121d873c479b",
   "metadata": {},
   "outputs": [],
   "source": [
    "import pandas as pd\n",
    "import numpy as np\n",
    "import seaborn as sns\n",
    "import matplotlib.pyplot as plt"
   ]
  },
  {
   "cell_type": "markdown",
   "id": "341b214c-59bb-4f3b-9d5b-4f574957f3b5",
   "metadata": {},
   "source": [
    "### **Loading the Data**\n",
    "\n",
    "We’ll start by loading the dataset into a DataFrame."
   ]
  },
  {
   "cell_type": "code",
   "execution_count": 14,
   "id": "c3a05311-526a-430f-9a36-2bbe5cd91434",
   "metadata": {},
   "outputs": [],
   "source": [
    "data = sns.load_dataset(\"titanic\")"
   ]
  },
  {
   "cell_type": "markdown",
   "id": "8639f177-9771-4045-9d30-900d9229dcd5",
   "metadata": {},
   "source": [
    "### **Understanding the Data**\n",
    "\n",
    "Before diving into cleaning, it's crucial to explore the data and get familiar with its structure. Your first step in any analysis should always be understanding what’s inside the dataset—its content, distribution, and data types.\n",
    "\n",
    "***Dataset Preview:*** A quick way to inspect a portion of your dataset. It’s perfect for confirming successful data loading, checking the layout, or verifying column headers."
   ]
  },
  {
   "cell_type": "code",
   "execution_count": 4,
   "id": "93f0a0c5-1e62-4d0e-8050-7db9a0922b36",
   "metadata": {},
   "outputs": [
    {
     "data": {
      "text/html": [
       "<div>\n",
       "<style scoped>\n",
       "    .dataframe tbody tr th:only-of-type {\n",
       "        vertical-align: middle;\n",
       "    }\n",
       "\n",
       "    .dataframe tbody tr th {\n",
       "        vertical-align: top;\n",
       "    }\n",
       "\n",
       "    .dataframe thead th {\n",
       "        text-align: right;\n",
       "    }\n",
       "</style>\n",
       "<table border=\"1\" class=\"dataframe\">\n",
       "  <thead>\n",
       "    <tr style=\"text-align: right;\">\n",
       "      <th></th>\n",
       "      <th>survived</th>\n",
       "      <th>pclass</th>\n",
       "      <th>sex</th>\n",
       "      <th>age</th>\n",
       "      <th>sibsp</th>\n",
       "      <th>parch</th>\n",
       "      <th>fare</th>\n",
       "      <th>embarked</th>\n",
       "      <th>class</th>\n",
       "      <th>who</th>\n",
       "      <th>adult_male</th>\n",
       "      <th>deck</th>\n",
       "      <th>embark_town</th>\n",
       "      <th>alive</th>\n",
       "      <th>alone</th>\n",
       "    </tr>\n",
       "  </thead>\n",
       "  <tbody>\n",
       "    <tr>\n",
       "      <th>0</th>\n",
       "      <td>0</td>\n",
       "      <td>3</td>\n",
       "      <td>male</td>\n",
       "      <td>22.0</td>\n",
       "      <td>1</td>\n",
       "      <td>0</td>\n",
       "      <td>7.2500</td>\n",
       "      <td>S</td>\n",
       "      <td>Third</td>\n",
       "      <td>man</td>\n",
       "      <td>True</td>\n",
       "      <td>NaN</td>\n",
       "      <td>Southampton</td>\n",
       "      <td>no</td>\n",
       "      <td>False</td>\n",
       "    </tr>\n",
       "    <tr>\n",
       "      <th>1</th>\n",
       "      <td>1</td>\n",
       "      <td>1</td>\n",
       "      <td>female</td>\n",
       "      <td>38.0</td>\n",
       "      <td>1</td>\n",
       "      <td>0</td>\n",
       "      <td>71.2833</td>\n",
       "      <td>C</td>\n",
       "      <td>First</td>\n",
       "      <td>woman</td>\n",
       "      <td>False</td>\n",
       "      <td>C</td>\n",
       "      <td>Cherbourg</td>\n",
       "      <td>yes</td>\n",
       "      <td>False</td>\n",
       "    </tr>\n",
       "    <tr>\n",
       "      <th>2</th>\n",
       "      <td>1</td>\n",
       "      <td>3</td>\n",
       "      <td>female</td>\n",
       "      <td>26.0</td>\n",
       "      <td>0</td>\n",
       "      <td>0</td>\n",
       "      <td>7.9250</td>\n",
       "      <td>S</td>\n",
       "      <td>Third</td>\n",
       "      <td>woman</td>\n",
       "      <td>False</td>\n",
       "      <td>NaN</td>\n",
       "      <td>Southampton</td>\n",
       "      <td>yes</td>\n",
       "      <td>True</td>\n",
       "    </tr>\n",
       "    <tr>\n",
       "      <th>3</th>\n",
       "      <td>1</td>\n",
       "      <td>1</td>\n",
       "      <td>female</td>\n",
       "      <td>35.0</td>\n",
       "      <td>1</td>\n",
       "      <td>0</td>\n",
       "      <td>53.1000</td>\n",
       "      <td>S</td>\n",
       "      <td>First</td>\n",
       "      <td>woman</td>\n",
       "      <td>False</td>\n",
       "      <td>C</td>\n",
       "      <td>Southampton</td>\n",
       "      <td>yes</td>\n",
       "      <td>False</td>\n",
       "    </tr>\n",
       "    <tr>\n",
       "      <th>4</th>\n",
       "      <td>0</td>\n",
       "      <td>3</td>\n",
       "      <td>male</td>\n",
       "      <td>35.0</td>\n",
       "      <td>0</td>\n",
       "      <td>0</td>\n",
       "      <td>8.0500</td>\n",
       "      <td>S</td>\n",
       "      <td>Third</td>\n",
       "      <td>man</td>\n",
       "      <td>True</td>\n",
       "      <td>NaN</td>\n",
       "      <td>Southampton</td>\n",
       "      <td>no</td>\n",
       "      <td>True</td>\n",
       "    </tr>\n",
       "  </tbody>\n",
       "</table>\n",
       "</div>"
      ],
      "text/plain": [
       "   survived  pclass     sex   age  sibsp  parch     fare embarked  class  \\\n",
       "0         0       3    male  22.0      1      0   7.2500        S  Third   \n",
       "1         1       1  female  38.0      1      0  71.2833        C  First   \n",
       "2         1       3  female  26.0      0      0   7.9250        S  Third   \n",
       "3         1       1  female  35.0      1      0  53.1000        S  First   \n",
       "4         0       3    male  35.0      0      0   8.0500        S  Third   \n",
       "\n",
       "     who  adult_male deck  embark_town alive  alone  \n",
       "0    man        True  NaN  Southampton    no  False  \n",
       "1  woman       False    C    Cherbourg   yes  False  \n",
       "2  woman       False  NaN  Southampton   yes   True  \n",
       "3  woman       False    C  Southampton   yes  False  \n",
       "4    man        True  NaN  Southampton    no   True  "
      ]
     },
     "execution_count": 4,
     "metadata": {},
     "output_type": "execute_result"
    }
   ],
   "source": [
    "data.head()"
   ]
  },
  {
   "cell_type": "markdown",
   "id": "9532de7c-eb31-441f-b5fb-a2fde0d5a2c5",
   "metadata": {},
   "source": [
    "***Dataset Overview:*** This gives you a snapshot of the dataset, showing basic info like data types, non-null counts, and memory usage. It also helps you spot missing data in each column, giving you a heads-up on areas that might need cleaning."
   ]
  },
  {
   "cell_type": "code",
   "execution_count": 5,
   "id": "8c9641f1-a7e0-4c1d-857f-c1f84fec748a",
   "metadata": {},
   "outputs": [
    {
     "name": "stdout",
     "output_type": "stream",
     "text": [
      "<class 'pandas.core.frame.DataFrame'>\n",
      "RangeIndex: 891 entries, 0 to 890\n",
      "Data columns (total 15 columns):\n",
      " #   Column       Non-Null Count  Dtype   \n",
      "---  ------       --------------  -----   \n",
      " 0   survived     891 non-null    int64   \n",
      " 1   pclass       891 non-null    int64   \n",
      " 2   sex          891 non-null    object  \n",
      " 3   age          714 non-null    float64 \n",
      " 4   sibsp        891 non-null    int64   \n",
      " 5   parch        891 non-null    int64   \n",
      " 6   fare         891 non-null    float64 \n",
      " 7   embarked     889 non-null    object  \n",
      " 8   class        891 non-null    category\n",
      " 9   who          891 non-null    object  \n",
      " 10  adult_male   891 non-null    bool    \n",
      " 11  deck         203 non-null    category\n",
      " 12  embark_town  889 non-null    object  \n",
      " 13  alive        891 non-null    object  \n",
      " 14  alone        891 non-null    bool    \n",
      "dtypes: bool(2), category(2), float64(2), int64(4), object(5)\n",
      "memory usage: 80.7+ KB\n"
     ]
    }
   ],
   "source": [
    "data.info()"
   ]
  },
  {
   "cell_type": "markdown",
   "id": "d27edbe7-732b-48dc-b948-e9ac0e7d2951",
   "metadata": {},
   "source": [
    "***Statistical Overview:*** Provides a quick summary of the numerical columns, including key statistics like mean, median, and standard deviation, to help you understand the distribution and spread of your data."
   ]
  },
  {
   "cell_type": "code",
   "execution_count": 6,
   "id": "3b71e24e-3d51-437f-bd42-8b073a32a2cc",
   "metadata": {},
   "outputs": [
    {
     "data": {
      "text/html": [
       "<div>\n",
       "<style scoped>\n",
       "    .dataframe tbody tr th:only-of-type {\n",
       "        vertical-align: middle;\n",
       "    }\n",
       "\n",
       "    .dataframe tbody tr th {\n",
       "        vertical-align: top;\n",
       "    }\n",
       "\n",
       "    .dataframe thead th {\n",
       "        text-align: right;\n",
       "    }\n",
       "</style>\n",
       "<table border=\"1\" class=\"dataframe\">\n",
       "  <thead>\n",
       "    <tr style=\"text-align: right;\">\n",
       "      <th></th>\n",
       "      <th>survived</th>\n",
       "      <th>pclass</th>\n",
       "      <th>age</th>\n",
       "      <th>sibsp</th>\n",
       "      <th>parch</th>\n",
       "      <th>fare</th>\n",
       "    </tr>\n",
       "  </thead>\n",
       "  <tbody>\n",
       "    <tr>\n",
       "      <th>count</th>\n",
       "      <td>891.000000</td>\n",
       "      <td>891.000000</td>\n",
       "      <td>714.000000</td>\n",
       "      <td>891.000000</td>\n",
       "      <td>891.000000</td>\n",
       "      <td>891.000000</td>\n",
       "    </tr>\n",
       "    <tr>\n",
       "      <th>mean</th>\n",
       "      <td>0.383838</td>\n",
       "      <td>2.308642</td>\n",
       "      <td>29.699118</td>\n",
       "      <td>0.523008</td>\n",
       "      <td>0.381594</td>\n",
       "      <td>32.204208</td>\n",
       "    </tr>\n",
       "    <tr>\n",
       "      <th>std</th>\n",
       "      <td>0.486592</td>\n",
       "      <td>0.836071</td>\n",
       "      <td>14.526497</td>\n",
       "      <td>1.102743</td>\n",
       "      <td>0.806057</td>\n",
       "      <td>49.693429</td>\n",
       "    </tr>\n",
       "    <tr>\n",
       "      <th>min</th>\n",
       "      <td>0.000000</td>\n",
       "      <td>1.000000</td>\n",
       "      <td>0.420000</td>\n",
       "      <td>0.000000</td>\n",
       "      <td>0.000000</td>\n",
       "      <td>0.000000</td>\n",
       "    </tr>\n",
       "    <tr>\n",
       "      <th>25%</th>\n",
       "      <td>0.000000</td>\n",
       "      <td>2.000000</td>\n",
       "      <td>20.125000</td>\n",
       "      <td>0.000000</td>\n",
       "      <td>0.000000</td>\n",
       "      <td>7.910400</td>\n",
       "    </tr>\n",
       "    <tr>\n",
       "      <th>50%</th>\n",
       "      <td>0.000000</td>\n",
       "      <td>3.000000</td>\n",
       "      <td>28.000000</td>\n",
       "      <td>0.000000</td>\n",
       "      <td>0.000000</td>\n",
       "      <td>14.454200</td>\n",
       "    </tr>\n",
       "    <tr>\n",
       "      <th>75%</th>\n",
       "      <td>1.000000</td>\n",
       "      <td>3.000000</td>\n",
       "      <td>38.000000</td>\n",
       "      <td>1.000000</td>\n",
       "      <td>0.000000</td>\n",
       "      <td>31.000000</td>\n",
       "    </tr>\n",
       "    <tr>\n",
       "      <th>max</th>\n",
       "      <td>1.000000</td>\n",
       "      <td>3.000000</td>\n",
       "      <td>80.000000</td>\n",
       "      <td>8.000000</td>\n",
       "      <td>6.000000</td>\n",
       "      <td>512.329200</td>\n",
       "    </tr>\n",
       "  </tbody>\n",
       "</table>\n",
       "</div>"
      ],
      "text/plain": [
       "         survived      pclass         age       sibsp       parch        fare\n",
       "count  891.000000  891.000000  714.000000  891.000000  891.000000  891.000000\n",
       "mean     0.383838    2.308642   29.699118    0.523008    0.381594   32.204208\n",
       "std      0.486592    0.836071   14.526497    1.102743    0.806057   49.693429\n",
       "min      0.000000    1.000000    0.420000    0.000000    0.000000    0.000000\n",
       "25%      0.000000    2.000000   20.125000    0.000000    0.000000    7.910400\n",
       "50%      0.000000    3.000000   28.000000    0.000000    0.000000   14.454200\n",
       "75%      1.000000    3.000000   38.000000    1.000000    0.000000   31.000000\n",
       "max      1.000000    3.000000   80.000000    8.000000    6.000000  512.329200"
      ]
     },
     "execution_count": 6,
     "metadata": {},
     "output_type": "execute_result"
    }
   ],
   "source": [
    "data.describe()"
   ]
  },
  {
   "cell_type": "markdown",
   "id": "fdf8b33c-c925-4463-b5f2-0c2540fc7a0a",
   "metadata": {},
   "source": [
    "***Dataset Size:*** Shows the total number of elements (individual cells) in the dataset, calculated by multiplying the number of rows and columns."
   ]
  },
  {
   "cell_type": "code",
   "execution_count": 7,
   "id": "a533198b-b34c-4421-87f1-fde48e904be8",
   "metadata": {},
   "outputs": [
    {
     "data": {
      "text/plain": [
       "13365"
      ]
     },
     "execution_count": 7,
     "metadata": {},
     "output_type": "execute_result"
    }
   ],
   "source": [
    "data.size"
   ]
  },
  {
   "cell_type": "markdown",
   "id": "bfcb8e58-6786-41ea-b900-f49dd6083806",
   "metadata": {},
   "source": [
    "## **Step 1: Dealing with Duplicates**\n",
    "\n",
    "Let's kick things off by making sure your data is clean and duplicate-free, so you can be confident that every data point adds unique value to your analysis!\n",
    "\n",
    "Throughout this tutorial, you’ll notice I frequently use f-strings. They’re a powerful tool that allows me to clearly communicate outputs in a way that’s easy to understand, even for those unfamiliar with the code. By embedding variables directly into the text, f-strings make the results more readable and give a deeper insight into what’s happening behind the scenes. You'll see them in action often, helping make the outputs more intuitive and engaging.\n",
    "\n",
    "***Create a Copy:*** Before we do anything, it's always a good idea to create a copy of your dataset or assign the cleaned version to a new variable. In this tutorial, we’ll be making a copy. This way, you keep your original data safe and avoid any accidental overwrites."
   ]
  },
  {
   "cell_type": "code",
   "execution_count": 15,
   "id": "041e50ec-7ff3-474d-b204-10baac9dd97a",
   "metadata": {},
   "outputs": [],
   "source": [
    "data_cleaned = data.copy()"
   ]
  },
  {
   "cell_type": "markdown",
   "id": "af6263cb-b000-42ff-919c-6b6697d30bac",
   "metadata": {},
   "source": [
    "***Check for Duplicates:*** Identify any duplicate rows that may exist in the dataset.  I recommend using the following code, which provides the total number of duplicates and displays a DataFrame containing only the duplicated rows for further inspection."
   ]
  },
  {
   "cell_type": "code",
   "execution_count": 16,
   "id": "07110cfa-5b21-42a0-8880-9689e6dfc0dc",
   "metadata": {},
   "outputs": [
    {
     "name": "stdout",
     "output_type": "stream",
     "text": [
      "Number of duplicate rows: 107\n",
      "Dataframe Rows: 160\n",
      "Dataframe Columns : 15\n"
     ]
    },
    {
     "data": {
      "text/html": [
       "<div>\n",
       "<style scoped>\n",
       "    .dataframe tbody tr th:only-of-type {\n",
       "        vertical-align: middle;\n",
       "    }\n",
       "\n",
       "    .dataframe tbody tr th {\n",
       "        vertical-align: top;\n",
       "    }\n",
       "\n",
       "    .dataframe thead th {\n",
       "        text-align: right;\n",
       "    }\n",
       "</style>\n",
       "<table border=\"1\" class=\"dataframe\">\n",
       "  <thead>\n",
       "    <tr style=\"text-align: right;\">\n",
       "      <th></th>\n",
       "      <th>survived</th>\n",
       "      <th>pclass</th>\n",
       "      <th>sex</th>\n",
       "      <th>age</th>\n",
       "      <th>sibsp</th>\n",
       "      <th>parch</th>\n",
       "      <th>fare</th>\n",
       "      <th>embarked</th>\n",
       "      <th>class</th>\n",
       "      <th>who</th>\n",
       "      <th>adult_male</th>\n",
       "      <th>deck</th>\n",
       "      <th>embark_town</th>\n",
       "      <th>alive</th>\n",
       "      <th>alone</th>\n",
       "    </tr>\n",
       "  </thead>\n",
       "  <tbody>\n",
       "    <tr>\n",
       "      <th>64</th>\n",
       "      <td>0</td>\n",
       "      <td>1</td>\n",
       "      <td>male</td>\n",
       "      <td>NaN</td>\n",
       "      <td>0</td>\n",
       "      <td>0</td>\n",
       "      <td>27.7208</td>\n",
       "      <td>C</td>\n",
       "      <td>First</td>\n",
       "      <td>man</td>\n",
       "      <td>True</td>\n",
       "      <td>NaN</td>\n",
       "      <td>Cherbourg</td>\n",
       "      <td>no</td>\n",
       "      <td>True</td>\n",
       "    </tr>\n",
       "    <tr>\n",
       "      <th>295</th>\n",
       "      <td>0</td>\n",
       "      <td>1</td>\n",
       "      <td>male</td>\n",
       "      <td>NaN</td>\n",
       "      <td>0</td>\n",
       "      <td>0</td>\n",
       "      <td>27.7208</td>\n",
       "      <td>C</td>\n",
       "      <td>First</td>\n",
       "      <td>man</td>\n",
       "      <td>True</td>\n",
       "      <td>NaN</td>\n",
       "      <td>Cherbourg</td>\n",
       "      <td>no</td>\n",
       "      <td>True</td>\n",
       "    </tr>\n",
       "    <tr>\n",
       "      <th>144</th>\n",
       "      <td>0</td>\n",
       "      <td>2</td>\n",
       "      <td>male</td>\n",
       "      <td>18.0</td>\n",
       "      <td>0</td>\n",
       "      <td>0</td>\n",
       "      <td>11.5000</td>\n",
       "      <td>S</td>\n",
       "      <td>Second</td>\n",
       "      <td>man</td>\n",
       "      <td>True</td>\n",
       "      <td>NaN</td>\n",
       "      <td>Southampton</td>\n",
       "      <td>no</td>\n",
       "      <td>True</td>\n",
       "    </tr>\n",
       "    <tr>\n",
       "      <th>757</th>\n",
       "      <td>0</td>\n",
       "      <td>2</td>\n",
       "      <td>male</td>\n",
       "      <td>18.0</td>\n",
       "      <td>0</td>\n",
       "      <td>0</td>\n",
       "      <td>11.5000</td>\n",
       "      <td>S</td>\n",
       "      <td>Second</td>\n",
       "      <td>man</td>\n",
       "      <td>True</td>\n",
       "      <td>NaN</td>\n",
       "      <td>Southampton</td>\n",
       "      <td>no</td>\n",
       "      <td>True</td>\n",
       "    </tr>\n",
       "    <tr>\n",
       "      <th>658</th>\n",
       "      <td>0</td>\n",
       "      <td>2</td>\n",
       "      <td>male</td>\n",
       "      <td>23.0</td>\n",
       "      <td>0</td>\n",
       "      <td>0</td>\n",
       "      <td>13.0000</td>\n",
       "      <td>S</td>\n",
       "      <td>Second</td>\n",
       "      <td>man</td>\n",
       "      <td>True</td>\n",
       "      <td>NaN</td>\n",
       "      <td>Southampton</td>\n",
       "      <td>no</td>\n",
       "      <td>True</td>\n",
       "    </tr>\n",
       "  </tbody>\n",
       "</table>\n",
       "</div>"
      ],
      "text/plain": [
       "     survived  pclass   sex   age  sibsp  parch     fare embarked   class  \\\n",
       "64          0       1  male   NaN      0      0  27.7208        C   First   \n",
       "295         0       1  male   NaN      0      0  27.7208        C   First   \n",
       "144         0       2  male  18.0      0      0  11.5000        S  Second   \n",
       "757         0       2  male  18.0      0      0  11.5000        S  Second   \n",
       "658         0       2  male  23.0      0      0  13.0000        S  Second   \n",
       "\n",
       "     who  adult_male deck  embark_town alive  alone  \n",
       "64   man        True  NaN    Cherbourg    no   True  \n",
       "295  man        True  NaN    Cherbourg    no   True  \n",
       "144  man        True  NaN  Southampton    no   True  \n",
       "757  man        True  NaN  Southampton    no   True  \n",
       "658  man        True  NaN  Southampton    no   True  "
      ]
     },
     "execution_count": 16,
     "metadata": {},
     "output_type": "execute_result"
    }
   ],
   "source": [
    "duplicate_count = data_cleaned.duplicated().sum()\n",
    "print(f\"Number of duplicate rows: {duplicate_count}\")\n",
    "\n",
    "duplicates = data_cleaned[data_cleaned.duplicated(keep=False)]\n",
    "duplicates_sorted = duplicates.sort_values(by=duplicates.columns.tolist())\n",
    "print(f\"Dataframe Rows: {duplicates_sorted.shape[0]}\")\n",
    "print(f\"Dataframe Columns : {duplicates_sorted.shape[1]}\")\n",
    "\n",
    "duplicates_sorted.head()"
   ]
  },
  {
   "cell_type": "markdown",
   "id": "00d6bede-2bf0-4c73-b166-9c4eebcac344",
   "metadata": {},
   "source": [
    "***Insights:*** We've identified 107 duplicate rows, which could arise from data entry errors or coincidental matches. You might notice that the DataFrame produced shows 160 rows of duplicates. This discrepancy occurs because there can be more than one duplicate of the same row. To ensure a clean dataset, it’s crucial to carefully review the duplicates and determine whether they should be removed or kept, depending on the context. This step is important because maintaining unique and valid entries ensures the accuracy of your analysis.\n",
    "\n",
    "In this case, while it's possible the duplicates represent different individuals, it's more likely they are repeated entries. Since we don’t have additional distinguishing details (like names or ticket numbers) to verify otherwise, we’ll proceed by removing the duplicates and checking the total data loss afterward."
   ]
  },
  {
   "cell_type": "code",
   "execution_count": 17,
   "id": "84edb29f-e123-48d9-9de0-addb31be0cdf",
   "metadata": {},
   "outputs": [
    {
     "name": "stdout",
     "output_type": "stream",
     "text": [
      "Proportion of Data Removed: 12.01%\n"
     ]
    }
   ],
   "source": [
    "# Calculate the initial size of the dataset\n",
    "initial_size = data_cleaned.size\n",
    "\n",
    "# Drop duplicates\n",
    "data_cleaned = data_cleaned.drop_duplicates()\n",
    "\n",
    "# Calculate the dataset size after dropping duplicates\n",
    "final_size = data_cleaned.size\n",
    "\n",
    "# Calculate the proportion of data removed\n",
    "proportion_removed = ((initial_size - final_size) / initial_size) * 100\n",
    "\n",
    "# Print the proportion of data removed\n",
    "print(f\"Proportion of Data Removed: {proportion_removed:.2f}%\")"
   ]
  },
  {
   "cell_type": "markdown",
   "id": "8ecd918f-c927-4be9-b34a-93b7a68019d5",
   "metadata": {},
   "source": [
    "<br>\n",
    "\n",
    "## **Step 2: Handling Missing Data**\n",
    "\n",
    "No more gaps! Together, we'll tackle missing data to make sure your dataset is complete and ready for accurate analysis. In this section, we’ll explore different strategies - because sometimes, missing data is too valuable to just toss out. For example, when predicting survival rates, missing age data could be filled in using the mean or median, depending on the distribution, to keep its importance in the analysis. Let’s find the best approach for your dataset!\n",
    "\n",
    "***Identifying Missing Values:*** Let’s check how much data is missing from each column.  While you can always use the basic code below, I prefer creating a DataFrame that also shows the percentage of missing data - it gives a clearer picture of how much is missing and where."
   ]
  },
  {
   "cell_type": "code",
   "execution_count": 18,
   "id": "9d0a50f4-2b24-4865-b290-547ebdf68223",
   "metadata": {},
   "outputs": [],
   "source": [
    "# Calculate missing data\n",
    "missing_data = data_cleaned.isnull().sum()"
   ]
  },
  {
   "cell_type": "code",
   "execution_count": 19,
   "id": "43857c50-561d-4321-b16b-08050a7c2e3f",
   "metadata": {},
   "outputs": [
    {
     "data": {
      "text/html": [
       "<div>\n",
       "<style scoped>\n",
       "    .dataframe tbody tr th:only-of-type {\n",
       "        vertical-align: middle;\n",
       "    }\n",
       "\n",
       "    .dataframe tbody tr th {\n",
       "        vertical-align: top;\n",
       "    }\n",
       "\n",
       "    .dataframe thead th {\n",
       "        text-align: right;\n",
       "    }\n",
       "</style>\n",
       "<table border=\"1\" class=\"dataframe\">\n",
       "  <thead>\n",
       "    <tr style=\"text-align: right;\">\n",
       "      <th></th>\n",
       "      <th>Missing Values</th>\n",
       "      <th>Row Percentage</th>\n",
       "    </tr>\n",
       "  </thead>\n",
       "  <tbody>\n",
       "    <tr>\n",
       "      <th>survived</th>\n",
       "      <td>0</td>\n",
       "      <td>0.000000</td>\n",
       "    </tr>\n",
       "    <tr>\n",
       "      <th>pclass</th>\n",
       "      <td>0</td>\n",
       "      <td>0.000000</td>\n",
       "    </tr>\n",
       "    <tr>\n",
       "      <th>sex</th>\n",
       "      <td>0</td>\n",
       "      <td>0.000000</td>\n",
       "    </tr>\n",
       "    <tr>\n",
       "      <th>age</th>\n",
       "      <td>106</td>\n",
       "      <td>13.520408</td>\n",
       "    </tr>\n",
       "    <tr>\n",
       "      <th>sibsp</th>\n",
       "      <td>0</td>\n",
       "      <td>0.000000</td>\n",
       "    </tr>\n",
       "    <tr>\n",
       "      <th>parch</th>\n",
       "      <td>0</td>\n",
       "      <td>0.000000</td>\n",
       "    </tr>\n",
       "    <tr>\n",
       "      <th>fare</th>\n",
       "      <td>0</td>\n",
       "      <td>0.000000</td>\n",
       "    </tr>\n",
       "    <tr>\n",
       "      <th>embarked</th>\n",
       "      <td>2</td>\n",
       "      <td>0.255102</td>\n",
       "    </tr>\n",
       "    <tr>\n",
       "      <th>class</th>\n",
       "      <td>0</td>\n",
       "      <td>0.000000</td>\n",
       "    </tr>\n",
       "    <tr>\n",
       "      <th>who</th>\n",
       "      <td>0</td>\n",
       "      <td>0.000000</td>\n",
       "    </tr>\n",
       "    <tr>\n",
       "      <th>adult_male</th>\n",
       "      <td>0</td>\n",
       "      <td>0.000000</td>\n",
       "    </tr>\n",
       "    <tr>\n",
       "      <th>deck</th>\n",
       "      <td>582</td>\n",
       "      <td>74.234694</td>\n",
       "    </tr>\n",
       "    <tr>\n",
       "      <th>embark_town</th>\n",
       "      <td>2</td>\n",
       "      <td>0.255102</td>\n",
       "    </tr>\n",
       "    <tr>\n",
       "      <th>alive</th>\n",
       "      <td>0</td>\n",
       "      <td>0.000000</td>\n",
       "    </tr>\n",
       "    <tr>\n",
       "      <th>alone</th>\n",
       "      <td>0</td>\n",
       "      <td>0.000000</td>\n",
       "    </tr>\n",
       "  </tbody>\n",
       "</table>\n",
       "</div>"
      ],
      "text/plain": [
       "             Missing Values  Row Percentage\n",
       "survived                  0        0.000000\n",
       "pclass                    0        0.000000\n",
       "sex                       0        0.000000\n",
       "age                     106       13.520408\n",
       "sibsp                     0        0.000000\n",
       "parch                     0        0.000000\n",
       "fare                      0        0.000000\n",
       "embarked                  2        0.255102\n",
       "class                     0        0.000000\n",
       "who                       0        0.000000\n",
       "adult_male                0        0.000000\n",
       "deck                    582       74.234694\n",
       "embark_town               2        0.255102\n",
       "alive                     0        0.000000\n",
       "alone                     0        0.000000"
      ]
     },
     "execution_count": 19,
     "metadata": {},
     "output_type": "execute_result"
    }
   ],
   "source": [
    "# Calculate percentage of missing data\n",
    "missing_percentage = (missing_data / len(data_cleaned)) * 100\n",
    "\n",
    "# Create a DataFrame with both counts and percentage of missing data\n",
    "missing_df = pd.DataFrame({\n",
    "    'Missing Values': missing_data,\n",
    "    'Row Percentage': missing_percentage\n",
    "})\n",
    "missing_df"
   ]
  },
  {
   "cell_type": "markdown",
   "id": "59d4fd95-a165-4266-91ea-7547edc15225",
   "metadata": {},
   "source": [
    "***Visualizing Missing Data (Optional):*** A heatmap is a powerful way to visually represent missing data, making it easier to spot gaps across your dataset at a glance."
   ]
  },
  {
   "cell_type": "code",
   "execution_count": 109,
   "id": "8cd508b3-3407-437e-92ab-2fd9d8175618",
   "metadata": {},
   "outputs": [
    {
     "data": {
      "image/png": "[encoded data removed]",
      "text/plain": [
       "<Figure size 400x400 with 1 Axes>"
      ]
     },
     "metadata": {},
     "output_type": "display_data"
    }
   ],
   "source": [
    "plt.figure(figsize=(4, 4))\n",
    "sns.heatmap(data_cleaned.isnull(), cbar=False);"
   ]
  },
  {
   "cell_type": "markdown",
   "id": "3b3ad59b-7f59-4100-ac9c-67385e344dc5",
   "metadata": {},
   "source": [
    "***Assessing Data Loss (Optional):*** Another useful option is to assess whether dropping rows or columns would result in the least data loss. The code below helps you determine which approach is more efficient for preserving your data."
   ]
  },
  {
   "cell_type": "code",
   "execution_count": 20,
   "id": "e52a26c6-07e9-449c-98b9-94bcd869644a",
   "metadata": {},
   "outputs": [],
   "source": [
    "total_elements = data_cleaned.size\n",
    "total_rows = data_cleaned.shape[0]\n",
    "total_columns = data_cleaned.shape[1]"
   ]
  },
  {
   "cell_type": "code",
   "execution_count": 21,
   "id": "886b107a-ec86-4f41-a048-6920819ac9cd",
   "metadata": {},
   "outputs": [
    {
     "name": "stdout",
     "output_type": "stream",
     "text": [
      "Percentage of data lost by removing columns with missing values: 26.67%\n",
      "Percentage of data lost by removing rows with missing values: 76.91%\n"
     ]
    }
   ],
   "source": [
    "null_columns = (missing_data > 0).sum()\n",
    "column_removal_proportion = (total_rows * null_columns) / total_elements * 100\n",
    "\n",
    "null_rows = data_cleaned.isnull().any(axis=1).sum()\n",
    "row_removal_proportion = (null_rows * total_columns) / total_elements * 100\n",
    "\n",
    "print(f\"Percentage of data lost by removing columns with missing values: {column_removal_proportion:.2f}%\")\n",
    "print(f\"Percentage of data lost by removing rows with missing values: {row_removal_proportion:.2f}%\")"
   ]
  },
  {
   "cell_type": "markdown",
   "id": "7fe4a5eb-e36a-479a-9d60-8db63028569d",
   "metadata": {},
   "source": [
    "<br>\n",
    "\n",
    "***Dealing with Missing Values:*** Managing missing data is a crucial part of data cleaning, and it can be handled by either dropping the missing values or imputing them. The best approach depends on the dataset and its context. For example, the `'embarked'` and `'embark_town'` columns each have only two missing values, so dropping those rows might be sufficient. On the other hand, the `'deck'` column is missing 74.23% of its data, making it more practical to drop the entire column due to the large gaps. \n",
    "\n",
    "***Here are our options -***"
   ]
  },
  {
   "cell_type": "markdown",
   "id": "d43deff9-d8b9-4896-b699-f0d28241ed38",
   "metadata": {},
   "source": [
    "***Dropping All Missing Rows:*** This option allows you to drop any row that contains missing values. However, in this tutorial, we won’t be using this approach to drop all missing rows."
   ]
  },
  {
   "cell_type": "code",
   "execution_count": null,
   "id": "ab18e5c0-956c-4787-a697-85c8ffb867a7",
   "metadata": {},
   "outputs": [],
   "source": [
    "# With inplace\n",
    "data_cleaned.dropna(inplace=True)\n",
    "\n",
    "# Without inplace\n",
    "data_cleaned = data_cleaned.dropna()"
   ]
  },
  {
   "cell_type": "markdown",
   "id": "cfcf54ef-9818-48b8-8fe7-98e66fcbc54c",
   "metadata": {},
   "source": [
    "When you use `inplace=True` in pandas methods like `.drop()` or `.dropna()`, it applies the changes directly to the original DataFrame, so there's no need to assign it back to a variable. Without `inplace=True`, the method creates a modified copy, so you’d need to save it to a new variable or overwrite the original DataFrame to retain the changes."
   ]
  },
  {
   "cell_type": "markdown",
   "id": "c1209cc7-b49c-4930-bc68-50f548d90fd4",
   "metadata": {},
   "source": [
    "***Dropping Specific Rows:*** If you want to drop rows that have missing values in a specific column (like the `'embarked'` or `'embark_town'` columns), you can use the `.dropna()` method with the `subset` parameter. Here’s how you can target and drop only those rows."
   ]
  },
  {
   "cell_type": "code",
   "execution_count": 22,
   "id": "85a776b1-95a2-4f4b-af76-61183c01e0a2",
   "metadata": {},
   "outputs": [],
   "source": [
    "# Drop rows where the 'emarked' and 'embark_town' columns have missing values\n",
    "data_cleaned = data_cleaned.dropna(subset=['embarked', 'embark_town'])"
   ]
  },
  {
   "cell_type": "markdown",
   "id": "ca5d4cd3-6292-42dc-8445-35ec662fc08d",
   "metadata": {},
   "source": [
    "***Dropping Specific Columns:***  To remove specific columns by their names, you can use the `.drop()` method, specifying the column names you want to drop."
   ]
  },
  {
   "cell_type": "code",
   "execution_count": 23,
   "id": "d720e37a-4ad5-4c1c-8e14-e932ea68f010",
   "metadata": {},
   "outputs": [],
   "source": [
    "# Drop specific columns, e.g., dropping the 'deck'column\n",
    "data_cleaned = data_cleaned.drop(columns=['deck'])"
   ]
  },
  {
   "cell_type": "markdown",
   "id": "2b56494c-1a0e-40fb-9dce-23f18b0adbc0",
   "metadata": {},
   "source": [
    "***Imputing Missing Values:*** For numerical columns like `'age'`, you can fill in missing data using the mean, ensuring the overall distribution of the data remains intact.  Another option is using the forward fill method. This argument specifies that the missing values should be filled with the last known (non-null) value that appeared before them in the DataFrame.  Here's how to do both."
   ]
  },
  {
   "cell_type": "code",
   "execution_count": 34,
   "id": "51cc1323-e822-44f4-b464-9a921ce98618",
   "metadata": {},
   "outputs": [],
   "source": [
    "# Fill missing data in 'age' column with mean values\n",
    "data_cleaned['age'] = data_cleaned['age'].fillna(data_cleaned['age'].mean())\n",
    "\n",
    "# Foward fill missing values\n",
    "data_filled = data_cleaned.fillna(method='ffill')"
   ]
  },
  {
   "cell_type": "markdown",
   "id": "0f475599-83d2-477c-83d2-dd2a86fb561d",
   "metadata": {},
   "source": [
    "***Confirm Changes:*** Finally, it’s important to recheck the data to confirm that the changes were successfully applied. In this example, I’ve followed through with the earlier recommendations by dropping all rows with missing values in the `'embarked'` and `'embark_town'` columns, removing the `'deck'` column entirely, and filling the missing values in the `'age'` column.\n",
    "\n",
    "Keep in mind, these steps were taken purely for this example, and the approach you take will depend on your project goals."
   ]
  },
  {
   "cell_type": "code",
   "execution_count": 25,
   "id": "86a7e2b2-65e3-458a-bc8e-3c569350d8ac",
   "metadata": {},
   "outputs": [
    {
     "name": "stdout",
     "output_type": "stream",
     "text": [
      "Proportion of data removed: 18.08%\n"
     ]
    },
    {
     "data": {
      "text/plain": [
       "survived       0\n",
       "pclass         0\n",
       "sex            0\n",
       "age            0\n",
       "sibsp          0\n",
       "parch          0\n",
       "fare           0\n",
       "embarked       0\n",
       "class          0\n",
       "who            0\n",
       "adult_male     0\n",
       "embark_town    0\n",
       "alive          0\n",
       "alone          0\n",
       "dtype: int64"
      ]
     },
     "execution_count": 25,
     "metadata": {},
     "output_type": "execute_result"
    }
   ],
   "source": [
    "before = data.size\n",
    "after = data_cleaned.size\n",
    "difference = before - after\n",
    "print(f\"Proportion of data removed: {round((difference / before) *100, 2)}%\")\n",
    "\n",
    "data_cleaned.isnull().sum()"
   ]
  },
  {
   "cell_type": "markdown",
   "id": "9eb4539c-3079-4502-8b05-875069df0d1d",
   "metadata": {},
   "source": [
    "***Evaluating Missing Data: How Much is Too Much?***\n",
    "*These are general guidelines to help you evaluate the impact of data loss on your analysis and decide how to handle missing values effectively.*\n",
    "\n",
    "* Less than 5% loss: Minimal impact, acceptable in most cases. Dropping rows or columns is usually fine.\n",
    "* 5-10% loss: Moderately acceptable. Check for patterns in missing data. Random missing data is less concerning, but systematic loss could introduce bias.\n",
    "* Above 10% loss: Proceed with caution. Consider using imputation techniques (e.g., mean, median) to fill missing values, as dropping data could distort results.\n",
    "* Above 20% loss: Typically unacceptable. High data loss reduces representativeness and risks invalidating the dataset."
   ]
  },
  {
   "cell_type": "markdown",
   "id": "1eb82c41-0a20-4a8a-9260-201b7100f4e2",
   "metadata": {},
   "source": [
    "***Note:*** The goal of this tutorial is to guide you through the data cleaning process step by step. From here on, I’ll provide the code for each method, but I won’t apply it to every part of the dataset. This is your opportunity to follow along, apply the steps in your own environment, and make adjustments to suit your specific data and project goals."
   ]
  },
  {
   "cell_type": "markdown",
   "id": "a4f9a657-b831-46b9-ad4d-d8c8a98c168f",
   "metadata": {},
   "source": [
    "<br>\n",
    "\n",
    "## **Step 3: Detecting and Managing Outliers**\n",
    "\n",
    "Outliers can skew your analysis and impact the accuracy of models, so addressing them is essential. In this tutorial, we'll explore several techniques to detect and manage outliers, including boxplots, the interquartile range (IQR), and the z-score method (using the Empirical Rule). These tools will help you spot and decide how to handle extreme values in your dataset."
   ]
  },
  {
   "cell_type": "markdown",
   "id": "9b2fa721-4cf0-4094-9425-70661de36ccf",
   "metadata": {},
   "source": [
    "***Visualize Outliers:*** In this section, we’ll dive deeper into our Titanic dataset by extending the basic descriptive statistics with boxplots and histograms to visualize the distribution of numerical columns. The goal is to better understand the data’s shape, spot potential outliers, and detect any skewness or clusters. This visual inspection will help ensure the dataset is thoroughly assessed and prepared for further analysis, leading to more accurate results. As you follow along, feel free to apply these steps to your own dataset and tweak the methods where necessary to suit your specific needs.\n",
    "\n",
    "As a reminder, here are the descriptive stats - "
   ]
  },
  {
   "cell_type": "code",
   "execution_count": 116,
   "id": "5512157c-fb40-43bb-a853-bab9de6dd8c1",
   "metadata": {},
   "outputs": [
    {
     "data": {
      "text/html": [
       "<div>\n",
       "<style scoped>\n",
       "    .dataframe tbody tr th:only-of-type {\n",
       "        vertical-align: middle;\n",
       "    }\n",
       "\n",
       "    .dataframe tbody tr th {\n",
       "        vertical-align: top;\n",
       "    }\n",
       "\n",
       "    .dataframe thead th {\n",
       "        text-align: right;\n",
       "    }\n",
       "</style>\n",
       "<table border=\"1\" class=\"dataframe\">\n",
       "  <thead>\n",
       "    <tr style=\"text-align: right;\">\n",
       "      <th></th>\n",
       "      <th>survived</th>\n",
       "      <th>pclass</th>\n",
       "      <th>age</th>\n",
       "      <th>sibsp</th>\n",
       "      <th>parch</th>\n",
       "      <th>fare</th>\n",
       "    </tr>\n",
       "  </thead>\n",
       "  <tbody>\n",
       "    <tr>\n",
       "      <th>count</th>\n",
       "      <td>782.000000</td>\n",
       "      <td>782.000000</td>\n",
       "      <td>782.000000</td>\n",
       "      <td>782.000000</td>\n",
       "      <td>782.000000</td>\n",
       "      <td>782.000000</td>\n",
       "    </tr>\n",
       "    <tr>\n",
       "      <th>mean</th>\n",
       "      <td>0.410486</td>\n",
       "      <td>2.246803</td>\n",
       "      <td>29.809793</td>\n",
       "      <td>0.524297</td>\n",
       "      <td>0.416880</td>\n",
       "      <td>34.595913</td>\n",
       "    </tr>\n",
       "    <tr>\n",
       "      <th>std</th>\n",
       "      <td>0.492237</td>\n",
       "      <td>0.853828</td>\n",
       "      <td>13.689920</td>\n",
       "      <td>0.987138</td>\n",
       "      <td>0.837728</td>\n",
       "      <td>52.176458</td>\n",
       "    </tr>\n",
       "    <tr>\n",
       "      <th>min</th>\n",
       "      <td>0.000000</td>\n",
       "      <td>1.000000</td>\n",
       "      <td>0.420000</td>\n",
       "      <td>0.000000</td>\n",
       "      <td>0.000000</td>\n",
       "      <td>0.000000</td>\n",
       "    </tr>\n",
       "    <tr>\n",
       "      <th>25%</th>\n",
       "      <td>0.000000</td>\n",
       "      <td>1.000000</td>\n",
       "      <td>22.000000</td>\n",
       "      <td>0.000000</td>\n",
       "      <td>0.000000</td>\n",
       "      <td>8.050000</td>\n",
       "    </tr>\n",
       "    <tr>\n",
       "      <th>50%</th>\n",
       "      <td>0.000000</td>\n",
       "      <td>3.000000</td>\n",
       "      <td>29.809793</td>\n",
       "      <td>0.000000</td>\n",
       "      <td>0.000000</td>\n",
       "      <td>15.875000</td>\n",
       "    </tr>\n",
       "    <tr>\n",
       "      <th>75%</th>\n",
       "      <td>1.000000</td>\n",
       "      <td>3.000000</td>\n",
       "      <td>36.000000</td>\n",
       "      <td>1.000000</td>\n",
       "      <td>1.000000</td>\n",
       "      <td>33.375000</td>\n",
       "    </tr>\n",
       "    <tr>\n",
       "      <th>max</th>\n",
       "      <td>1.000000</td>\n",
       "      <td>3.000000</td>\n",
       "      <td>80.000000</td>\n",
       "      <td>8.000000</td>\n",
       "      <td>6.000000</td>\n",
       "      <td>512.329200</td>\n",
       "    </tr>\n",
       "  </tbody>\n",
       "</table>\n",
       "</div>"
      ],
      "text/plain": [
       "         survived      pclass         age       sibsp       parch        fare\n",
       "count  782.000000  782.000000  782.000000  782.000000  782.000000  782.000000\n",
       "mean     0.410486    2.246803   29.809793    0.524297    0.416880   34.595913\n",
       "std      0.492237    0.853828   13.689920    0.987138    0.837728   52.176458\n",
       "min      0.000000    1.000000    0.420000    0.000000    0.000000    0.000000\n",
       "25%      0.000000    1.000000   22.000000    0.000000    0.000000    8.050000\n",
       "50%      0.000000    3.000000   29.809793    0.000000    0.000000   15.875000\n",
       "75%      1.000000    3.000000   36.000000    1.000000    1.000000   33.375000\n",
       "max      1.000000    3.000000   80.000000    8.000000    6.000000  512.329200"
      ]
     },
     "execution_count": 116,
     "metadata": {},
     "output_type": "execute_result"
    }
   ],
   "source": [
    "data_cleaned.describe()"
   ]
  },
  {
   "cell_type": "code",
   "execution_count": 26,
   "id": "b3de2a7f-d285-455b-a35a-b969c4aac895",
   "metadata": {},
   "outputs": [
    {
     "data": {
      "image/png": "[encoded data removed]",
      "text/plain": [
       "<Figure size 600x100 with 1 Axes>"
      ]
     },
     "metadata": {},
     "output_type": "display_data"
    }
   ],
   "source": [
    "plt.figure(figsize=(6, 1))\n",
    "sns.boxplot(x=data_cleaned['fare']);"
   ]
  },
  {
   "cell_type": "markdown",
   "id": "9d767cf4-74e8-4b20-9511-ca271809abce",
   "metadata": {},
   "source": [
    "***Tip:*** When setting bin ranges for a histogram, start by reviewing the descriptive statistics to find the maximum value for the targeted column. Set the upper limit 1 unit higher than this maximum to ensure all data points are captured. Next, decide on the number of bins - best practice suggests using between 10 to 20 bins, striking a balance between too much and too little granularity."
   ]
  },
  {
   "cell_type": "code",
   "execution_count": 27,
   "id": "d738afbb-6c7b-4673-b57e-f4f9aac6d2b2",
   "metadata": {},
   "outputs": [
    {
     "data": {
      "image/png": "[encoded data removed]",
      "text/plain": [
       "<Figure size 500x300 with 1 Axes>"
      ]
     },
     "metadata": {},
     "output_type": "display_data"
    }
   ],
   "source": [
    "plt.figure(figsize=(5,3))\n",
    "sns.histplot(data_cleaned['fare'], bins=range(0,513,25));"
   ]
  },
  {
   "cell_type": "markdown",
   "id": "760492f0-f66d-4ada-bac2-4c05ba271104",
   "metadata": {},
   "source": [
    "***Insight:*** The boxplot reveals a significant number of outliers in the `'fare'` column, with most fares clustered between 0-50, and a few much higher values causing a right-skew in the data. The histogram confirms this skewed distribution, with fares dropping off sharply after 50, indicating that higher fares were rare. Together, these plots reveal a skewed fare distribution with numerous outliers, which could influence statistical analysis if not handled appropriately. This makes sense as the majority of passengers on the Titanic were likely traveling in third class (steerage) or second class, where ticket prices were more affordable, leading to a concentration of fares in the lower range.\n",
    "\n",
    "***Interquartile Range (IQR):*** Next, let's look at applying the IQR to display the number of outliers and the proportion of dataset these outliers make up. In this code, we are using a loop to iterate over multiple numerical columns and calculate the Interquartile Range (IQR) for each. By using the standard threshold of Q3 + 1.5 * IQR, we identify outliers that exceed this threshold. The loop then stores the number of outliers and their proportion relative to the total number of rows in a results DataFrame, allowing us to efficiently display outliers across all specified columns."
   ]
  },
  {
   "cell_type": "code",
   "execution_count": 28,
   "id": "7b93e716-d1a6-43d0-9bc4-ff617cb419bf",
   "metadata": {},
   "outputs": [
    {
     "data": {
      "text/html": [
       "<div>\n",
       "<style scoped>\n",
       "    .dataframe tbody tr th:only-of-type {\n",
       "        vertical-align: middle;\n",
       "    }\n",
       "\n",
       "    .dataframe tbody tr th {\n",
       "        vertical-align: top;\n",
       "    }\n",
       "\n",
       "    .dataframe thead th {\n",
       "        text-align: right;\n",
       "    }\n",
       "</style>\n",
       "<table border=\"1\" class=\"dataframe\">\n",
       "  <thead>\n",
       "    <tr style=\"text-align: right;\">\n",
       "      <th></th>\n",
       "      <th>Column</th>\n",
       "      <th>Number of Outliers</th>\n",
       "      <th>Proportion</th>\n",
       "    </tr>\n",
       "  </thead>\n",
       "  <tbody>\n",
       "    <tr>\n",
       "      <th>0</th>\n",
       "      <td>survived</td>\n",
       "      <td>0</td>\n",
       "      <td>0.00%</td>\n",
       "    </tr>\n",
       "    <tr>\n",
       "      <th>1</th>\n",
       "      <td>pclass</td>\n",
       "      <td>0</td>\n",
       "      <td>0.00%</td>\n",
       "    </tr>\n",
       "    <tr>\n",
       "      <th>2</th>\n",
       "      <td>age</td>\n",
       "      <td>32</td>\n",
       "      <td>4.09%</td>\n",
       "    </tr>\n",
       "    <tr>\n",
       "      <th>3</th>\n",
       "      <td>sibsp</td>\n",
       "      <td>39</td>\n",
       "      <td>4.99%</td>\n",
       "    </tr>\n",
       "    <tr>\n",
       "      <th>4</th>\n",
       "      <td>parch</td>\n",
       "      <td>15</td>\n",
       "      <td>1.92%</td>\n",
       "    </tr>\n",
       "    <tr>\n",
       "      <th>5</th>\n",
       "      <td>fare</td>\n",
       "      <td>100</td>\n",
       "      <td>12.79%</td>\n",
       "    </tr>\n",
       "  </tbody>\n",
       "</table>\n",
       "</div>"
      ],
      "text/plain": [
       "     Column  Number of Outliers Proportion\n",
       "0  survived                   0      0.00%\n",
       "1    pclass                   0      0.00%\n",
       "2       age                  32      4.09%\n",
       "3     sibsp                  39      4.99%\n",
       "4     parch                  15      1.92%\n",
       "5      fare                 100     12.79%"
      ]
     },
     "execution_count": 28,
     "metadata": {},
     "output_type": "execute_result"
    }
   ],
   "source": [
    "# Using a loop to identify outliers and determine the proportion\n",
    "column_list = ['survived',\n",
    "              'pclass',\n",
    "              'age',\n",
    "              'sibsp',\n",
    "              'parch',\n",
    "              'fare'\n",
    "              ]\n",
    "\n",
    "results = []\n",
    "\n",
    "for column in column_list:\n",
    "    q1 = data_cleaned[column].quantile(0.25)\n",
    "    q3 = data_cleaned[column].quantile(0.75)\n",
    "    iqr = q3 - q1\n",
    "      \n",
    "    # Standard threshold using Q3 + 1.5*IQR\n",
    "    standard_threshold = q3 + 1.5 * iqr\n",
    "    standard_outliers = (data_cleaned[column] > standard_threshold).sum()\n",
    "    proportion = (standard_outliers / len(data_cleaned)) * 100\n",
    "    \n",
    "    results.append([\n",
    "        column, \n",
    "        standard_outliers, \n",
    "        f\"{proportion:.2f}%\"\n",
    "    ])\n",
    "\n",
    "# Create a DataFrame to display the results\n",
    "outlier_df = pd.DataFrame(results, columns=[\n",
    "    'Column', \n",
    "    'Number of Outliers', \n",
    "    'Proportion'\n",
    "])\n",
    "\n",
    "outlier_df"
   ]
  },
  {
   "cell_type": "markdown",
   "id": "3b1fba50-f86e-4c29-a840-c28004ead902",
   "metadata": {},
   "source": [
    "It’s important to note that there are several options for handling outliers, such as capping (Winsorizing), transforming the data, analyzing outliers separately, or imputing values. For this tutorial, we’ll focus on removing outliers. If you want to target a specific column and remove rows with outliers, here’s how you can do it. For example, let’s focus on the `'parch'` column, which has 15 outliers, leading to a 1.92% data loss."
   ]
  },
  {
   "cell_type": "code",
   "execution_count": 33,
   "id": "3b5f0186-273b-4726-9e21-058a7e1f7660",
   "metadata": {},
   "outputs": [
    {
     "name": "stdout",
     "output_type": "stream",
     "text": [
      "Proportion Removed: 1.92%\n",
      "\n"
     ]
    }
   ],
   "source": [
    "# Define lower and upper bounds to identify outliers\n",
    "q1 = data_cleaned['parch'].quantile(0.25)\n",
    "q3 = data_cleaned['parch'].quantile(0.75)\n",
    "iqr = q3 - q1\n",
    "lower_bound = q1 - 1.5 * iqr\n",
    "upper_bound = q3 + 1.5 * iqr\n",
    "\n",
    "# Remove outliers by keeping only the rows within the IQR bounds\n",
    "outliers_removed = data_cleaned[(data_cleaned['parch'] >= lower_bound) & (data_cleaned['parch'] <= upper_bound)]\n",
    "\n",
    "# Check the proportion of rows removed\n",
    "proportion_removed = ((len(data_cleaned) - len(outliers_removed)) / len(data_cleaned)) * 100\n",
    "print(f\"Proportion Removed: {round(proportion_removed, 2)}%\\n\")"
   ]
  },
  {
   "cell_type": "markdown",
   "id": "68e484b3-b366-4cac-87f0-4b2f53fbd683",
   "metadata": {},
   "source": [
    "***Z-Score and the Emperical Rule:*** Now let's look into applying the Z-score. The Z-score method is a statistical approach for detecting outliers in a dataset. It measures how many standard deviations a data point is from the mean. Outliers typically have high or low Z-scores, indicating that they deviate significantly from the average.\n",
    "\n",
    "The Empirical Rule (also known as the 68-95-99.7 rule) complements this by explaining how data is distributed in a normal distribution:\n",
    "\n",
    "* About 68% of data falls within 1 standard deviation of the mean.\n",
    "* About 95% falls within 2 standard deviations.\n",
    "* About 99.7% falls within 3 standard deviations.\n",
    "\n",
    "Data points with Z-scores outside ±3 are often considered outliers because they are more than three standard deviations away from the mean.\n",
    "\n",
    "***Note:*** This method assumes that the data follows a normal distribution. If the data is skewed or not normally distributed, consider using other methods, like the IQR approach, for more reliable outlier detection.\n",
    "\n",
    "To apply these statistical methods, we’ll tap into one of Python’s most powerful libraries: `SciPy`."
   ]
  },
  {
   "cell_type": "code",
   "execution_count": 121,
   "id": "b2e8625f-8ad1-4331-a58e-d015873a34b7",
   "metadata": {},
   "outputs": [],
   "source": [
    "from scipy import stats"
   ]
  },
  {
   "cell_type": "markdown",
   "id": "6e5b81af-a4a6-4ced-9ce6-7c2078e9ad6e",
   "metadata": {},
   "source": [
    "Next, let's use a histogram to visualize the distribution of the `'age'` column and check if the data follows a bell-shaped, normal distribution. This will give us a quick visual cue about the shape of the data and whether the Z-score method is appropriate for detecting outliers."
   ]
  },
  {
   "cell_type": "code",
   "execution_count": 122,
   "id": "a5a5c794-a0d1-48d1-967a-acc2738ffc91",
   "metadata": {},
   "outputs": [
    {
     "data": {
      "image/png": "[encoded data removed]",
      "text/plain": [
       "<Figure size 500x300 with 1 Axes>"
      ]
     },
     "metadata": {},
     "output_type": "display_data"
    }
   ],
   "source": [
    "plt.figure(figsize=(5,3))\n",
    "data_cleaned['age'].hist();"
   ]
  },
  {
   "cell_type": "markdown",
   "id": "467f1cbc-3ebb-4148-b284-9057db9e24fb",
   "metadata": {},
   "source": [
    "***Insight:*** This distribution is approximately normal, but it is slightly right-skewed. Most of the ages cluster between 20 and 40, forming a bell-shaped curve, but there are some extended tails particularly on the higher end, where fewer passengers are older. While it’s not a perfect bell curve, the distribution is close enough to normal to apply the Z-score method for demonstration purposes. However, be mindful of its limitations due to the skew.\n",
    "\n",
    "Now, we’ll calculate the mean and standard deviation, which will help us define the boundaries for 1, 2, and 3 standard deviations."
   ]
  },
  {
   "cell_type": "code",
   "execution_count": 123,
   "id": "13fc7b36-e656-4b1e-9080-3c31dee753e2",
   "metadata": {},
   "outputs": [
    {
     "name": "stdout",
     "output_type": "stream",
     "text": [
      "Mean: 29.809792899408286\n",
      "Standard Deviation: 13.68116366940738\n"
     ]
    }
   ],
   "source": [
    "mean = np.mean(data_cleaned['age'])\n",
    "std_dev = np.std(data_cleaned['age'])\n",
    "\n",
    "print(f\"Mean: {mean}\")\n",
    "print(f\"Standard Deviation: {std_dev}\")"
   ]
  },
  {
   "cell_type": "code",
   "execution_count": 124,
   "id": "70f55887-b2a9-415e-b70e-0206b6e432d9",
   "metadata": {},
   "outputs": [],
   "source": [
    "# 1 standard deviation limits\n",
    "lower_limit_1 = mean - std_dev\n",
    "upper_limit_1 = mean + std_dev\n",
    "\n",
    "# 2 standard deviation limits\n",
    "lower_limit_2 = mean - 2 * std_dev\n",
    "upper_limit_2 = mean + 2 * std_dev\n",
    "\n",
    "# 3 standard deviation limits\n",
    "lower_limit_3 = mean - 3 * std_dev\n",
    "upper_limit_3 = mean + 3 * std_dev"
   ]
  },
  {
   "cell_type": "markdown",
   "id": "48072598-ba16-4091-b95a-05b8388ae1d7",
   "metadata": {},
   "source": [
    "Next, let’s figure out what percentage of our data falls within these limits."
   ]
  },
  {
   "cell_type": "code",
   "execution_count": 125,
   "id": "8f4ab2d4-9549-47cd-a8f0-5f517d522d2a",
   "metadata": {},
   "outputs": [
    {
     "name": "stdout",
     "output_type": "stream",
     "text": [
      "71.87% of data falls within 1 standard deviation.\n",
      "92.97% of data falls within 2 standard deviations.\n",
      "99.49% of data falls within 3 standard deviations.\n"
     ]
    }
   ],
   "source": [
    "within_1_std = ((data_cleaned['age'] >= lower_limit_1) & (data_cleaned['age'] <= upper_limit_1)).mean()\n",
    "within_2_std = ((data_cleaned['age'] >= lower_limit_2) & (data_cleaned['age'] <= upper_limit_2)).mean()\n",
    "within_3_std = ((data_cleaned['age'] >= lower_limit_3) & (data_cleaned['age'] <= upper_limit_3)).mean()\n",
    "\n",
    "print(f\"{round(within_1_std * 100, 2)}% of data falls within 1 standard deviation.\")\n",
    "print(f\"{round(within_2_std * 100, 2)}% of data falls within 2 standard deviations.\")\n",
    "print(f\"{round(within_3_std * 100, 2)}% of data falls within 3 standard deviations.\")"
   ]
  },
  {
   "cell_type": "markdown",
   "id": "2aa266db-1536-4e49-b5e7-0b5608300f1c",
   "metadata": {},
   "source": [
    "***Insight:*** The results indicate that the `'age'` data in our Titanic dataset follows the Empirical Rule quite closely, with 71.87% of values within 1 standard deviation, 92.97% within 2, and 99.49% within 3 standard deviations. This suggests the data is approximately normally distributed, making the Z-score method appropriate for outlier detection. Although there may be slight skewness, the close alignment with the Empirical Rule indicates that most of the data falls within the expected range, allowing us to confidently use standard statistical techniques for further analysis.\n",
    "\n",
    "Now, let’s calculate the Z-scores and inspect the data using the `.head()` function."
   ]
  },
  {
   "cell_type": "code",
   "execution_count": 126,
   "id": "41c50584-cf69-4e70-a69d-286a1de3c686",
   "metadata": {},
   "outputs": [
    {
     "data": {
      "text/html": [
       "<div>\n",
       "<style scoped>\n",
       "    .dataframe tbody tr th:only-of-type {\n",
       "        vertical-align: middle;\n",
       "    }\n",
       "\n",
       "    .dataframe tbody tr th {\n",
       "        vertical-align: top;\n",
       "    }\n",
       "\n",
       "    .dataframe thead th {\n",
       "        text-align: right;\n",
       "    }\n",
       "</style>\n",
       "<table border=\"1\" class=\"dataframe\">\n",
       "  <thead>\n",
       "    <tr style=\"text-align: right;\">\n",
       "      <th></th>\n",
       "      <th>age</th>\n",
       "      <th>z_score</th>\n",
       "    </tr>\n",
       "  </thead>\n",
       "  <tbody>\n",
       "    <tr>\n",
       "      <th>0</th>\n",
       "      <td>22.0</td>\n",
       "      <td>-0.570478</td>\n",
       "    </tr>\n",
       "    <tr>\n",
       "      <th>1</th>\n",
       "      <td>38.0</td>\n",
       "      <td>0.598266</td>\n",
       "    </tr>\n",
       "    <tr>\n",
       "      <th>2</th>\n",
       "      <td>26.0</td>\n",
       "      <td>-0.278292</td>\n",
       "    </tr>\n",
       "    <tr>\n",
       "      <th>3</th>\n",
       "      <td>35.0</td>\n",
       "      <td>0.379126</td>\n",
       "    </tr>\n",
       "    <tr>\n",
       "      <th>4</th>\n",
       "      <td>35.0</td>\n",
       "      <td>0.379126</td>\n",
       "    </tr>\n",
       "  </tbody>\n",
       "</table>\n",
       "</div>"
      ],
      "text/plain": [
       "    age   z_score\n",
       "0  22.0 -0.570478\n",
       "1  38.0  0.598266\n",
       "2  26.0 -0.278292\n",
       "3  35.0  0.379126\n",
       "4  35.0  0.379126"
      ]
     },
     "execution_count": 126,
     "metadata": {},
     "output_type": "execute_result"
    }
   ],
   "source": [
    "data_cleaned['z_score'] = stats.zscore(data_cleaned['age'], ddof=1)\n",
    "sample_df = data_cleaned[['age', 'z_score']]\n",
    "sample_df.head()"
   ]
  },
  {
   "cell_type": "markdown",
   "id": "867e1d2f-2fb3-430a-b6ec-f0024ec5efa4",
   "metadata": {},
   "source": [
    "This code will identify any data points beyond 3 standard deviations from the mean."
   ]
  },
  {
   "cell_type": "code",
   "execution_count": 127,
   "id": "ba2701f3-4811-4727-9184-485be95bc103",
   "metadata": {},
   "outputs": [
    {
     "data": {
      "text/html": [
       "<div>\n",
       "<style scoped>\n",
       "    .dataframe tbody tr th:only-of-type {\n",
       "        vertical-align: middle;\n",
       "    }\n",
       "\n",
       "    .dataframe tbody tr th {\n",
       "        vertical-align: top;\n",
       "    }\n",
       "\n",
       "    .dataframe thead th {\n",
       "        text-align: right;\n",
       "    }\n",
       "</style>\n",
       "<table border=\"1\" class=\"dataframe\">\n",
       "  <thead>\n",
       "    <tr style=\"text-align: right;\">\n",
       "      <th></th>\n",
       "      <th>age</th>\n",
       "      <th>z_score</th>\n",
       "    </tr>\n",
       "  </thead>\n",
       "  <tbody>\n",
       "    <tr>\n",
       "      <th>96</th>\n",
       "      <td>71.0</td>\n",
       "      <td>3.008798</td>\n",
       "    </tr>\n",
       "    <tr>\n",
       "      <th>493</th>\n",
       "      <td>71.0</td>\n",
       "      <td>3.008798</td>\n",
       "    </tr>\n",
       "    <tr>\n",
       "      <th>630</th>\n",
       "      <td>80.0</td>\n",
       "      <td>3.666216</td>\n",
       "    </tr>\n",
       "    <tr>\n",
       "      <th>851</th>\n",
       "      <td>74.0</td>\n",
       "      <td>3.227938</td>\n",
       "    </tr>\n",
       "  </tbody>\n",
       "</table>\n",
       "</div>"
      ],
      "text/plain": [
       "      age   z_score\n",
       "96   71.0  3.008798\n",
       "493  71.0  3.008798\n",
       "630  80.0  3.666216\n",
       "851  74.0  3.227938"
      ]
     },
     "execution_count": 127,
     "metadata": {},
     "output_type": "execute_result"
    }
   ],
   "source": [
    "sample_df[(sample_df['z_score'] > 3) | (sample_df['z_score'] < -3)]"
   ]
  },
  {
   "cell_type": "markdown",
   "id": "b3361d6b-d915-4e18-b251-a1b1d5438cee",
   "metadata": {},
   "source": [
    "***Result:*** After conducting the Z-score test, we identified four outliers with Z-scores above 3, indicating that these ages (71, 80, and 74) are more than three standard deviations away from the mean. This confirms that these values are statistically unusual in the dataset and may require further investigation. Depending on the context, these outliers could be kept for analysis or addressed if they skew results in future modeling.\n",
    "\n",
    "For demonstration purposes, to remove the rows with a z-score greater than 3 or less than -3, you can use the following code - "
   ]
  },
  {
   "cell_type": "code",
   "execution_count": 128,
   "id": "a5200c58-9f7d-4249-b40a-485530cf8589",
   "metadata": {},
   "outputs": [
    {
     "name": "stdout",
     "output_type": "stream",
     "text": [
      "Proportion Removed: 0.51%\n",
      "\n"
     ]
    }
   ],
   "source": [
    "outliers_removed = data_cleaned[(data_cleaned['z_score'] <= 3) & (data_cleaned['z_score'] >= -3)]\n",
    "\n",
    "# Check the proportion of rows removed\n",
    "proportion_removed = ((len(data_cleaned) - len(outliers_removed)) / len(data_cleaned)) * 100\n",
    "print(f\"Proportion Removed: {round(proportion_removed, 2)}%\\n\")"
   ]
  },
  {
   "cell_type": "markdown",
   "id": "cb198c3a-eb8d-41fa-80de-a7f89ae9db8c",
   "metadata": {},
   "source": [
    "<br>\n",
    "\n",
    "## **Step 4: Correcting Data Types**\n",
    "\n",
    "Let’s double-check those data types to avoid any errors down the road and make sure everything’s in the right format for smooth analysis. Ensuring that each column has the correct data type is essential for smooth analysis and accurate calculations. Incorrect data types can cause issues when performing operations, visualizations, or feeding data into machine learning models.\n",
    "\n",
    "***Identifying Incorrect Data Types:*** First, review the data types of each column in the dataset. This will help you identify any columns that need to be converted to a more appropriate type."
   ]
  },
  {
   "cell_type": "code",
   "execution_count": 129,
   "id": "6c4df09c-51f0-4135-84ea-fb992fa1ab9e",
   "metadata": {},
   "outputs": [
    {
     "data": {
      "text/plain": [
       "survived          int64\n",
       "pclass            int64\n",
       "sex              object\n",
       "age             float64\n",
       "sibsp             int64\n",
       "parch             int64\n",
       "fare            float64\n",
       "embarked         object\n",
       "class          category\n",
       "who              object\n",
       "adult_male         bool\n",
       "embark_town      object\n",
       "alive            object\n",
       "alone              bool\n",
       "z_score         float64\n",
       "dtype: object"
      ]
     },
     "execution_count": 129,
     "metadata": {},
     "output_type": "execute_result"
    }
   ],
   "source": [
    "data_cleaned.dtypes"
   ]
  },
  {
   "cell_type": "markdown",
   "id": "5508f57b-2b14-4dc6-943b-ba5a412db6dc",
   "metadata": {},
   "source": [
    "Here, you can spot any discrepancies - such as numerical values stored as strings, or categorical columns that are listed as objects instead of category types.\n",
    "\n",
    "***Converting Data Types:*** Let’s take the `'embarked'` column as an example. This column represents passengers' embarkation points and should be treated as categorical data. By default, it's stored as an object (string), but it can be converted to the more efficient category data type, which saves memory and ensures correct operations for categorical variables."
   ]
  },
  {
   "cell_type": "code",
   "execution_count": 130,
   "id": "de9a7093-b91f-478e-8123-09e5bad751a8",
   "metadata": {},
   "outputs": [],
   "source": [
    "data_cleaned['embarked'] = data_cleaned['embarked'].astype('category')"
   ]
  },
  {
   "cell_type": "markdown",
   "id": "c84340ab-821a-446d-a971-06b8c0b90bdc",
   "metadata": {},
   "source": [
    "This simple conversion helps with both memory efficiency and model performance, as many machine learning models require categorical variables to be in the correct format before encoding or analysis.\n",
    "\n",
    "One of the most common issues you might encounter is dates being stored as strings. While this dataset does not contain dates, for future reference here's a simple code snippet for converting date strings to datetime objects."
   ]
  },
  {
   "cell_type": "code",
   "execution_count": null,
   "id": "0a27417c-3b0f-4b48-afd8-35257aa23a72",
   "metadata": {},
   "outputs": [],
   "source": [
    "# Example of converting a date string column to datetime\n",
    "data_cleaned['date_column'] = pd.to_datetime(data_cleaned['date_column'], errors='coerce')"
   ]
  },
  {
   "cell_type": "markdown",
   "id": "1accc52f-97bd-43cb-b97b-9a2ca1a90ce0",
   "metadata": {},
   "source": [
    "This code will convert the values in the date_column to datetime format, making them easier to work with for analysis and modeling."
   ]
  },
  {
   "cell_type": "markdown",
   "id": "6dcd32e2-cb8b-496d-a638-6498bc46685e",
   "metadata": {},
   "source": [
    "<br>\n",
    "\n",
    "## **Summary of Data Cleaning Steps:**\n",
    "\n",
    "In this tutorial, we’ve focused on the essential steps to clean the Titanic dataset, covering key techniques such as dealing with duplicates, handling missing data, detecting and managing outliers, and correcting data types. These methods form the backbone of preparing your data for further analysis or machine learning.\n",
    "\n",
    "**Next Steps:** Once you've cleaned your dataset, it’s time to put it to work! You can proceed to exploratory data analysis (EDA), conduct feature selection, or start building your machine learning models. A great next step would be to create a simple logistic regression model to predict passenger survival, or you can continue refining the dataset with additional feature engineering for greater accuracy.\n",
    "\n",
    "Feel free to try these methods on your own dataset to see what improvements you can achieve. I hope this tutorial has been helpful in demonstrating how to approach data cleaning efficiently.\n",
    "\n",
    "Now, go clean some data and unleash the power of your models!"
   ]
  },
  {
   "cell_type": "markdown",
   "id": "95e19730-cf6a-4fba-9396-503992eb226e",
   "metadata": {},
   "source": [
    "<img src=\"LinkedIn Images/Titanic_2.png\" alt=\"Logo\" style=\"float:left; width:500px; height:250px;\">"
   ]
  },
  {
   "cell_type": "code",
   "execution_count": null,
   "id": "e0c5c7af-3276-47c5-8eda-d0f1ff22c873",
   "metadata": {},
   "outputs": [],
   "source": []
  }
 ],
 "metadata": {
  "kernelspec": {
   "display_name": "Python 3 (ipykernel)",
   "language": "python",
   "name": "python3"
  },
  "language_info": {
   "codemirror_mode": {
    "name": "ipython",
    "version": 3
   },
   "file_extension": ".py",
   "mimetype": "text/x-python",
   "name": "python",
   "nbconvert_exporter": "python",
   "pygments_lexer": "ipython3",
   "version": "3.12.4"
  }
 },
 "nbformat": 4,
 "nbformat_minor": 5
}
